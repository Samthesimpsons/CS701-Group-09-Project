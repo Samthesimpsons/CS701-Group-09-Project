{
 "cells": [
  {
   "cell_type": "markdown",
   "metadata": {},
   "source": [
    "# Imports"
   ]
  },
  {
   "cell_type": "code",
   "execution_count": 1,
   "metadata": {},
   "outputs": [],
   "source": [
    "import os\n",
    "import cv2\n",
    "from pathlib import Path\n",
    "\n",
    "os.chdir(Path().resolve().parent)\n",
    "\n",
    "from src.data_processing.loader import SAMDataset, create_dataloader\n",
    "from src.modeling.models import SAMModel"
   ]
  },
  {
   "cell_type": "markdown",
   "metadata": {},
   "source": [
    "# Prepare the data"
   ]
  },
  {
   "cell_type": "code",
   "execution_count": null,
   "metadata": {},
   "outputs": [],
   "source": [
    "train_dataset = SAMDataset(\n",
    "    image_dir=\"data/train_images\",\n",
    "    mask_dir=\"data/train_labels\",\n",
    "    spacing_metadata_dir=\"data/metadata/spacing_mm.txt\",\n",
    "    processor=\"facebook/sam-vit-base\",\n",
    ")\n",
    "\n",
    "print(f\"Number of records: {len(dataset)}\")\n",
    "print(f\"Example of one record:\")\n",
    "for k, v in train_dataset[0].items():\n",
    "    print(f\"{k}: {v.shape}\")"
   ]
  },
  {
   "cell_type": "code",
   "execution_count": null,
   "metadata": {},
   "outputs": [],
   "source": [
    "test_dataset = SAMDataset(\n",
    "    image_dir=\"data/train_images\",\n",
    "    bbox_file_dir=\"data/metadata/test1bbox.txt\",\n",
    "    spacing_metadata_dir=\"data/metadata/spacing_mm.txt\",\n",
    "    processor=\"facebook/sam-vit-base\",\n",
    ")\n",
    "\n",
    "print(f\"Number of records: {len(dataset)}\")\n",
    "print(f\"Example of one record:\")\n",
    "for k, v in test_dataset[0].items():\n",
    "    print(f\"{k}: {v.shape}\")"
   ]
  },
  {
   "cell_type": "markdown",
   "metadata": {},
   "source": [
    "# Use dataloader"
   ]
  },
  {
   "cell_type": "code",
   "execution_count": null,
   "metadata": {},
   "outputs": [],
   "source": [
    "train_dataloader = create_dataloader(\n",
    "    train_dataset,\n",
    "    batch_size=36,\n",
    "    train_ratio=0.8,\n",
    "    shuffle=True,\n",
    "    num_workers=2,\n",
    ")"
   ]
  },
  {
   "cell_type": "code",
   "execution_count": null,
   "metadata": {},
   "outputs": [],
   "source": [
    "batch = next(iter(train_dataloader))\n",
    "\n",
    "print(f\"Example of one batch:\")\n",
    "for k, v in batch.items():\n",
    "    print(f\"{k}: {v.shape}\")"
   ]
  },
  {
   "cell_type": "markdown",
   "metadata": {},
   "source": [
    "# Train Model"
   ]
  },
  {
   "cell_type": "code",
   "execution_count": 2,
   "metadata": {},
   "outputs": [],
   "source": [
    "model = SAMModel(\n",
    "    model_name=\"facebook/sam-vit-base\",  # Default model name\n",
    "    device=\"cpu\",  # Use GPU (cuda) if available\n",
    "    learning_rate=1e-5,  # Default learning rate\n",
    "    weight_decay=0,  # Default weight decay\n",
    ")\n",
    "\n",
    "# model.k_fold_cross_validation(\n",
    "#     dataloader=train_dataloader,  # SAM DataLoader object\n",
    "#     k_folds=5,  # Default: 5 folds\n",
    "#     num_epochs=10,  # Default: 10 epochs per fold\n",
    "# )"
   ]
  }
 ],
 "metadata": {
  "kernelspec": {
   "display_name": ".venv",
   "language": "python",
   "name": "python3"
  },
  "language_info": {
   "codemirror_mode": {
    "name": "ipython",
    "version": 3
   },
   "file_extension": ".py",
   "mimetype": "text/x-python",
   "name": "python",
   "nbconvert_exporter": "python",
   "pygments_lexer": "ipython3",
   "version": "3.11.4"
  }
 },
 "nbformat": 4,
 "nbformat_minor": 2
}
