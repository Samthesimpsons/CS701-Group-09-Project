{
 "cells": [
  {
   "cell_type": "code",
   "execution_count": 4,
   "metadata": {},
   "outputs": [],
   "source": [
    "import os\n",
    "from pathlib import Path\n",
    "\n",
    "DATASET_ID = '369'\n",
    "\n",
    "SRC_FOLDER = os.path.join(\n",
    "    Path().resolve().parent,\n",
    "    'nnunet'\n",
    ")\n",
    "\n",
    "os.environ['nnUNet_raw'] = f\"{SRC_FOLDER}/nnUNet_raw\"\n",
    "os.environ['nnUNet_preprocessed'] = f\"{SRC_FOLDER}/nnUNet_preprocessed\"\n",
    "os.environ['nnUNet_results'] = f\"{SRC_FOLDER}/nnUNet_results\""
   ]
  },
  {
   "cell_type": "code",
   "execution_count": null,
   "metadata": {},
   "outputs": [
    {
     "name": "stdout",
     "output_type": "stream",
     "text": [
      "Fingerprint extraction...\n",
      "Dataset369\n",
      "Using <class 'nnunetv2.imageio.simpleitk_reader_writer.SimpleITKIO'> as reader/writer\n",
      "\n",
      "####################\n",
      "verify_dataset_integrity Done. \n",
      "If you didn't see any error messages then your dataset is most likely OK!\n",
      "####################\n",
      "\n",
      "Using <class 'nnunetv2.imageio.simpleitk_reader_writer.SimpleITKIO'> as reader/writer\n",
      "100%|███████████████████████████████████████████| 40/40 [00:07<00:00,  5.64it/s]\n",
      "Experiment planning...\n",
      "Attempting to find 3d_lowres config. \n",
      "Current spacing: [2.5        0.82681653 0.82681653]. \n",
      "Current patch size: (40, 224, 192). \n",
      "Current median shape: [ 97.         497.08737864 497.08737864]\n",
      "Attempting to find 3d_lowres config. \n",
      "Current spacing: [2.5        0.85162102 0.85162102]. \n",
      "Current patch size: (40, 224, 192). \n",
      "Current median shape: [ 97.         482.60910548 482.60910548]\n",
      "Attempting to find 3d_lowres config. \n",
      "Current spacing: [2.5        0.87716966 0.87716966]. \n",
      "Current patch size: (40, 224, 192). \n",
      "Current median shape: [ 97.         468.55252959 468.55252959]\n",
      "Attempting to find 3d_lowres config. \n",
      "Current spacing: [2.5        0.90348475 0.90348475]. \n",
      "Current patch size: (40, 224, 192). \n",
      "Current median shape: [ 97.         454.90536853 454.90536853]\n",
      "Attempting to find 3d_lowres config. \n",
      "Current spacing: [2.5        0.93058929 0.93058929]. \n",
      "Current patch size: (48, 192, 192). \n",
      "Current median shape: [ 97.        441.6556976 441.6556976]\n",
      "Attempting to find 3d_lowres config. \n",
      "Current spacing: [2.5        0.95850697 0.95850697]. \n",
      "Current patch size: (48, 192, 192). \n",
      "Current median shape: [ 97.         428.79193942 428.79193942]\n",
      "Attempting to find 3d_lowres config. \n",
      "Current spacing: [2.5        0.98726218 0.98726218]. \n",
      "Current patch size: (48, 192, 192). \n",
      "Current median shape: [ 97.         416.30285381 416.30285381]\n",
      "Attempting to find 3d_lowres config. \n",
      "Current spacing: [2.5        1.01688004 1.01688004]. \n",
      "Current patch size: (48, 192, 192). \n",
      "Current median shape: [ 97.         404.17752797 404.17752797]\n",
      "Attempting to find 3d_lowres config. \n",
      "Current spacing: [2.5        1.04738644 1.04738644]. \n",
      "Current patch size: (48, 192, 192). \n",
      "Current median shape: [ 97.         392.40536696 392.40536696]\n",
      "Attempting to find 3d_lowres config. \n",
      "Current spacing: [2.5        1.07880804 1.07880804]. \n",
      "Current patch size: (48, 192, 192). \n",
      "Current median shape: [ 97.         380.97608443 380.97608443]\n",
      "Attempting to find 3d_lowres config. \n",
      "Current spacing: [2.5        1.11117228 1.11117228]. \n",
      "Current patch size: (48, 192, 192). \n",
      "Current median shape: [ 97.         369.87969362 369.87969362]\n",
      "Attempting to find 3d_lowres config. \n",
      "Current spacing: [2.5        1.14450744 1.14450744]. \n",
      "Current patch size: (48, 192, 192). \n",
      "Current median shape: [ 97.         359.10649866 359.10649866]\n",
      "Attempting to find 3d_lowres config. \n",
      "Current spacing: [2.5        1.17884267 1.17884267]. \n",
      "Current patch size: (48, 192, 192). \n",
      "Current median shape: [ 97.         348.64708608 348.64708608]\n",
      "Attempting to find 3d_lowres config. \n",
      "Current spacing: [2.5        1.21420795 1.21420795]. \n",
      "Current patch size: (48, 192, 192). \n",
      "Current median shape: [ 97.         338.49231658 338.49231658]\n",
      "Attempting to find 3d_lowres config. \n",
      "Current spacing: [2.5        1.25063419 1.25063419]. \n",
      "Current patch size: (64, 192, 192). \n",
      "Current median shape: [ 97.         328.63331707 328.63331707]\n",
      "Attempting to find 3d_lowres config. \n",
      "Current spacing: [2.575      1.28815321 1.28815321]. \n",
      "Current patch size: (64, 192, 192). \n",
      "Current median shape: [ 94.17475728 319.06147288 319.06147288]\n",
      "Attempting to find 3d_lowres config. \n",
      "Current spacing: [2.65225    1.32679781 1.32679781]. \n",
      "Current patch size: (64, 192, 192). \n",
      "Current median shape: [ 91.43180319 309.76842027 309.76842027]\n",
      "2D U-Net configuration:\n",
      "{'data_identifier': 'nnUNetPlans_2d', 'preprocessor_name': 'DefaultPreprocessor', 'batch_size': 12, 'patch_size': (512, 512), 'median_image_size_in_voxels': array([512., 512.]), 'spacing': array([0.80273449, 0.80273449]), 'normalization_schemes': ['CTNormalization'], 'use_mask_for_norm': [False], 'resampling_fn_data': 'resample_data_or_seg_to_shape', 'resampling_fn_seg': 'resample_data_or_seg_to_shape', 'resampling_fn_data_kwargs': {'is_seg': False, 'order': 3, 'order_z': 0, 'force_separate_z': None}, 'resampling_fn_seg_kwargs': {'is_seg': True, 'order': 1, 'order_z': 0, 'force_separate_z': None}, 'resampling_fn_probabilities': 'resample_data_or_seg_to_shape', 'resampling_fn_probabilities_kwargs': {'is_seg': False, 'order': 1, 'order_z': 0, 'force_separate_z': None}, 'architecture': {'network_class_name': 'dynamic_network_architectures.architectures.unet.ResidualEncoderUNet', 'arch_kwargs': {'n_stages': 8, 'features_per_stage': (32, 64, 128, 256, 512, 512, 512, 512), 'conv_op': 'torch.nn.modules.conv.Conv2d', 'kernel_sizes': ((3, 3), (3, 3), (3, 3), (3, 3), (3, 3), (3, 3), (3, 3), (3, 3)), 'strides': ((1, 1), (2, 2), (2, 2), (2, 2), (2, 2), (2, 2), (2, 2), (2, 2)), 'n_blocks_per_stage': (1, 3, 4, 6, 6, 6, 6, 6), 'n_conv_per_stage_decoder': (1, 1, 1, 1, 1, 1, 1), 'conv_bias': True, 'norm_op': 'torch.nn.modules.instancenorm.InstanceNorm2d', 'norm_op_kwargs': {'eps': 1e-05, 'affine': True}, 'dropout_op': None, 'dropout_op_kwargs': None, 'nonlin': 'torch.nn.LeakyReLU', 'nonlin_kwargs': {'inplace': True}}, '_kw_requires_import': ('conv_op', 'norm_op', 'dropout_op', 'nonlin')}, 'batch_dice': True}\n",
      "\n",
      "Using <class 'nnunetv2.imageio.simpleitk_reader_writer.SimpleITKIO'> as reader/writer\n",
      "3D lowres U-Net configuration:\n",
      "{'data_identifier': 'nnUNetResEncUNetMPlans_3d_lowres', 'preprocessor_name': 'DefaultPreprocessor', 'batch_size': 2, 'patch_size': (64, 192, 192), 'median_image_size_in_voxels': (91, 310, 310), 'spacing': array([2.65225   , 1.32679781, 1.32679781]), 'normalization_schemes': ['CTNormalization'], 'use_mask_for_norm': [False], 'resampling_fn_data': 'resample_data_or_seg_to_shape', 'resampling_fn_seg': 'resample_data_or_seg_to_shape', 'resampling_fn_data_kwargs': {'is_seg': False, 'order': 3, 'order_z': 0, 'force_separate_z': None}, 'resampling_fn_seg_kwargs': {'is_seg': True, 'order': 1, 'order_z': 0, 'force_separate_z': None}, 'resampling_fn_probabilities': 'resample_data_or_seg_to_shape', 'resampling_fn_probabilities_kwargs': {'is_seg': False, 'order': 1, 'order_z': 0, 'force_separate_z': None}, 'architecture': {'network_class_name': 'dynamic_network_architectures.architectures.unet.ResidualEncoderUNet', 'arch_kwargs': {'n_stages': 6, 'features_per_stage': (32, 64, 128, 256, 320, 320), 'conv_op': 'torch.nn.modules.conv.Conv3d', 'kernel_sizes': ((3, 3, 3), (3, 3, 3), (3, 3, 3), (3, 3, 3), (3, 3, 3), (3, 3, 3)), 'strides': ((1, 1, 1), (2, 2, 2), (2, 2, 2), (2, 2, 2), (2, 2, 2), (1, 2, 2)), 'n_blocks_per_stage': (1, 3, 4, 6, 6, 6), 'n_conv_per_stage_decoder': (1, 1, 1, 1, 1), 'conv_bias': True, 'norm_op': 'torch.nn.modules.instancenorm.InstanceNorm3d', 'norm_op_kwargs': {'eps': 1e-05, 'affine': True}, 'dropout_op': None, 'dropout_op_kwargs': None, 'nonlin': 'torch.nn.LeakyReLU', 'nonlin_kwargs': {'inplace': True}}, '_kw_requires_import': ('conv_op', 'norm_op', 'dropout_op', 'nonlin')}, 'batch_dice': False, 'next_stage': '3d_cascade_fullres'}\n",
      "\n",
      "3D fullres U-Net configuration:\n",
      "{'data_identifier': 'nnUNetPlans_3d_fullres', 'preprocessor_name': 'DefaultPreprocessor', 'batch_size': 2, 'patch_size': (40, 224, 192), 'median_image_size_in_voxels': array([ 97., 512., 512.]), 'spacing': array([2.5       , 0.80273449, 0.80273449]), 'normalization_schemes': ['CTNormalization'], 'use_mask_for_norm': [False], 'resampling_fn_data': 'resample_data_or_seg_to_shape', 'resampling_fn_seg': 'resample_data_or_seg_to_shape', 'resampling_fn_data_kwargs': {'is_seg': False, 'order': 3, 'order_z': 0, 'force_separate_z': None}, 'resampling_fn_seg_kwargs': {'is_seg': True, 'order': 1, 'order_z': 0, 'force_separate_z': None}, 'resampling_fn_probabilities': 'resample_data_or_seg_to_shape', 'resampling_fn_probabilities_kwargs': {'is_seg': False, 'order': 1, 'order_z': 0, 'force_separate_z': None}, 'architecture': {'network_class_name': 'dynamic_network_architectures.architectures.unet.ResidualEncoderUNet', 'arch_kwargs': {'n_stages': 6, 'features_per_stage': (32, 64, 128, 256, 320, 320), 'conv_op': 'torch.nn.modules.conv.Conv3d', 'kernel_sizes': ((1, 3, 3), (3, 3, 3), (3, 3, 3), (3, 3, 3), (3, 3, 3), (3, 3, 3)), 'strides': ((1, 1, 1), (1, 2, 2), (2, 2, 2), (2, 2, 2), (2, 2, 2), (1, 2, 2)), 'n_blocks_per_stage': (1, 3, 4, 6, 6, 6), 'n_conv_per_stage_decoder': (1, 1, 1, 1, 1), 'conv_bias': True, 'norm_op': 'torch.nn.modules.instancenorm.InstanceNorm3d', 'norm_op_kwargs': {'eps': 1e-05, 'affine': True}, 'dropout_op': None, 'dropout_op_kwargs': None, 'nonlin': 'torch.nn.LeakyReLU', 'nonlin_kwargs': {'inplace': True}}, '_kw_requires_import': ('conv_op', 'norm_op', 'dropout_op', 'nonlin')}, 'batch_dice': True}\n",
      "\n",
      "Plans were saved to /Users/keithchiang/Documents/GitHub/CS701-Group-09-Project/src/nnunet/nnUNet_preprocessed/Dataset369/nnUNetResEncUNetMPlans.json\n",
      "Preprocessing...\n",
      "Preprocessing dataset Dataset369\n",
      "Configuration: 2d...\n",
      "100%|███████████████████████████████████████████| 40/40 [01:30<00:00,  2.27s/it]\n",
      "Configuration: 3d_fullres...\n",
      "100%|███████████████████████████████████████████| 40/40 [01:52<00:00,  2.82s/it]\n",
      "Configuration: 3d_lowres...\n",
      " 82%|███████████████████████████████████▍       | 33/40 [01:01<00:08,  1.26s/it]"
     ]
    }
   ],
   "source": [
    "!nnUNetv2_plan_and_preprocess -d 369 --verify_dataset_integrity -np 4 -pl nnUNetPlannerResEncM"
   ]
  },
  {
   "cell_type": "code",
   "execution_count": 3,
   "metadata": {},
   "outputs": [
    {
     "name": "stdout",
     "output_type": "stream",
     "text": [
      "Traceback (most recent call last):\n",
      "  File \"/Users/keithchiang/opt/miniconda3/envs/nnunetv2/bin/nnUNetv2_train\", line 8, in <module>\n",
      "    sys.exit(run_training_entry())\n",
      "  File \"/Users/keithchiang/opt/miniconda3/envs/nnunetv2/lib/python3.10/site-packages/nnunetv2/run/run_training.py\", line 275, in run_training_entry\n",
      "    run_training(args.dataset_name_or_id, args.configuration, args.fold, args.tr, args.p, args.pretrained_weights,\n",
      "  File \"/Users/keithchiang/opt/miniconda3/envs/nnunetv2/lib/python3.10/site-packages/nnunetv2/run/run_training.py\", line 196, in run_training\n",
      "    nnunet_trainer = get_trainer_from_args(dataset_name_or_id, configuration, fold, trainer_class_name,\n",
      "  File \"/Users/keithchiang/opt/miniconda3/envs/nnunetv2/lib/python3.10/site-packages/nnunetv2/run/run_training.py\", line 64, in get_trainer_from_args\n",
      "    plans = load_json(plans_file)\n",
      "  File \"/Users/keithchiang/opt/miniconda3/envs/nnunetv2/lib/python3.10/site-packages/batchgenerators/utilities/file_and_folder_operations.py\", line 68, in load_json\n",
      "    with open(file, 'r') as f:\n",
      "FileNotFoundError: [Errno 2] No such file or directory: '/Users/keithchiang/Documents/GitHub/CS701-Group-09-Project/src/nnunet/nnUNet_preprocessed/Dataset369/nnUNetResEncUNetMPlans.json'\n"
     ]
    }
   ],
   "source": [
    "!nnUNetv2_train 369 '2d' 4 -device 'cpu' --npz -p nnUNetResEncUNetMPlans"
   ]
  }
 ],
 "metadata": {
  "kernelspec": {
   "display_name": "nnunetv2",
   "language": "python",
   "name": "python3"
  },
  "language_info": {
   "codemirror_mode": {
    "name": "ipython",
    "version": 3
   },
   "file_extension": ".py",
   "mimetype": "text/x-python",
   "name": "python",
   "nbconvert_exporter": "python",
   "pygments_lexer": "ipython3",
   "version": "3.10.15"
  }
 },
 "nbformat": 4,
 "nbformat_minor": 2
}
